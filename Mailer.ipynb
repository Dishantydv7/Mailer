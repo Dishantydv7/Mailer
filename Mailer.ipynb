{
  "nbformat": 4,
  "nbformat_minor": 0,
  "metadata": {
    "colab": {
      "provenance": [],
      "authorship_tag": "ABX9TyMncKSBeETjeEEYfM5oMZmA",
      "include_colab_link": true
    },
    "kernelspec": {
      "name": "python3",
      "display_name": "Python 3"
    },
    "language_info": {
      "name": "python"
    }
  },
  "cells": [
    {
      "cell_type": "markdown",
      "metadata": {
        "id": "view-in-github",
        "colab_type": "text"
      },
      "source": [
        "<a href=\"https://colab.research.google.com/github/Dishantydv7/Mailer/blob/main/Mailer.ipynb\" target=\"_parent\"><img src=\"https://colab.research.google.com/assets/colab-badge.svg\" alt=\"Open In Colab\"/></a>"
      ]
    },
    {
      "cell_type": "code",
      "execution_count": null,
      "metadata": {
        "colab": {
          "base_uri": "https://localhost:8080/"
        },
        "id": "yUoZ-bhWuhMl",
        "outputId": "95fdd7e9-1d74-4643-b864-1517a3edda43"
      },
      "outputs": [
        {
          "output_type": "stream",
          "name": "stdout",
          "text": [
            "Collecting yagmail\n",
            "  Downloading yagmail-0.15.293-py2.py3-none-any.whl.metadata (2.9 kB)\n",
            "Collecting premailer (from yagmail)\n",
            "  Downloading premailer-3.10.0-py2.py3-none-any.whl.metadata (15 kB)\n",
            "Requirement already satisfied: lxml in /usr/local/lib/python3.11/dist-packages (from premailer->yagmail) (5.3.1)\n",
            "Collecting cssselect (from premailer->yagmail)\n",
            "  Downloading cssselect-1.2.0-py2.py3-none-any.whl.metadata (2.2 kB)\n",
            "Collecting cssutils (from premailer->yagmail)\n",
            "  Downloading cssutils-2.11.1-py3-none-any.whl.metadata (8.7 kB)\n",
            "Requirement already satisfied: requests in /usr/local/lib/python3.11/dist-packages (from premailer->yagmail) (2.32.3)\n",
            "Requirement already satisfied: cachetools in /usr/local/lib/python3.11/dist-packages (from premailer->yagmail) (5.5.1)\n",
            "Requirement already satisfied: more-itertools in /usr/local/lib/python3.11/dist-packages (from cssutils->premailer->yagmail) (10.6.0)\n",
            "Requirement already satisfied: charset-normalizer<4,>=2 in /usr/local/lib/python3.11/dist-packages (from requests->premailer->yagmail) (3.4.1)\n",
            "Requirement already satisfied: idna<4,>=2.5 in /usr/local/lib/python3.11/dist-packages (from requests->premailer->yagmail) (3.10)\n",
            "Requirement already satisfied: urllib3<3,>=1.21.1 in /usr/local/lib/python3.11/dist-packages (from requests->premailer->yagmail) (2.3.0)\n",
            "Requirement already satisfied: certifi>=2017.4.17 in /usr/local/lib/python3.11/dist-packages (from requests->premailer->yagmail) (2025.1.31)\n",
            "Downloading yagmail-0.15.293-py2.py3-none-any.whl (17 kB)\n",
            "Downloading premailer-3.10.0-py2.py3-none-any.whl (19 kB)\n",
            "Downloading cssselect-1.2.0-py2.py3-none-any.whl (18 kB)\n",
            "Downloading cssutils-2.11.1-py3-none-any.whl (385 kB)\n",
            "\u001b[2K   \u001b[90m━━━━━━━━━━━━━━━━━━━━━━━━━━━━━━━━━━━━━━━━\u001b[0m \u001b[32m385.7/385.7 kB\u001b[0m \u001b[31m23.6 MB/s\u001b[0m eta \u001b[36m0:00:00\u001b[0m\n",
            "\u001b[?25hInstalling collected packages: cssutils, cssselect, premailer, yagmail\n",
            "Successfully installed cssselect-1.2.0 cssutils-2.11.1 premailer-3.10.0 yagmail-0.15.293\n"
          ]
        }
      ],
      "source": [
        "!pip install yagmail\n",
        "\n"
      ]
    },
    {
      "cell_type": "code",
      "source": [
        "pip install pandas openpyxl schedule\n"
      ],
      "metadata": {
        "colab": {
          "base_uri": "https://localhost:8080/"
        },
        "id": "vwJbnDAb1E8w",
        "outputId": "85084987-c92e-4d12-e4b7-8d4ec008a50d"
      },
      "execution_count": null,
      "outputs": [
        {
          "output_type": "stream",
          "name": "stdout",
          "text": [
            "Requirement already satisfied: pandas in /usr/local/lib/python3.11/dist-packages (2.2.2)\n",
            "Requirement already satisfied: openpyxl in /usr/local/lib/python3.11/dist-packages (3.1.5)\n",
            "Collecting schedule\n",
            "  Downloading schedule-1.2.2-py3-none-any.whl.metadata (3.8 kB)\n",
            "Requirement already satisfied: numpy>=1.23.2 in /usr/local/lib/python3.11/dist-packages (from pandas) (1.26.4)\n",
            "Requirement already satisfied: python-dateutil>=2.8.2 in /usr/local/lib/python3.11/dist-packages (from pandas) (2.8.2)\n",
            "Requirement already satisfied: pytz>=2020.1 in /usr/local/lib/python3.11/dist-packages (from pandas) (2025.1)\n",
            "Requirement already satisfied: tzdata>=2022.7 in /usr/local/lib/python3.11/dist-packages (from pandas) (2025.1)\n",
            "Requirement already satisfied: et-xmlfile in /usr/local/lib/python3.11/dist-packages (from openpyxl) (2.0.0)\n",
            "Requirement already satisfied: six>=1.5 in /usr/local/lib/python3.11/dist-packages (from python-dateutil>=2.8.2->pandas) (1.17.0)\n",
            "Downloading schedule-1.2.2-py3-none-any.whl (12 kB)\n",
            "Installing collected packages: schedule\n",
            "Successfully installed schedule-1.2.2\n"
          ]
        }
      ]
    },
    {
      "cell_type": "code",
      "source": [
        "import pandas as pd\n",
        "\n",
        "\n",
        "def retrieveMailFromExcel():\n",
        "  file_path = \"xx.csv\"\n",
        "  df = pd.read_csv(file_path)\n",
        "  if 'email' in df.columns:\n",
        "    emails = df['email'].dropna().tolist()\n",
        "  return emails\n",
        "\n",
        "mail = retrieveMailFromExcel()\n",
        "print(mail)"
      ],
      "metadata": {
        "colab": {
          "base_uri": "https://localhost:8080/"
        },
        "id": "YeqBqfuN1G6y",
        "outputId": "a8aebe53-3b10-4ac8-e66e-e65cad5147c6"
      },
      "execution_count": null,
      "outputs": [
        {
          "output_type": "stream",
          "name": "stdout",
          "text": [
            "['22b2218@iitb.ac.in', 'sanketyadavdohar123@gmail.com', 'harishchand.iws@gmail.com', 'dishantrao11@gmail.com']\n"
          ]
        }
      ]
    },
    {
      "cell_type": "code",
      "source": [
        "import yagmail\n",
        "\n",
        "SENDER_EMAIL = \"dishantrao11@gmail.com\"\n",
        "SENDER_PASSWORD = \"etlk fepl sztz fkel\"\n",
        "recipients = mail\n",
        "subject = \"Bonita\"\n",
        "body = \"Lodu lalit Bonita\"\n",
        "\n",
        "yag = yagmail.SMTP(SENDER_EMAIL, SENDER_PASSWORD)\n",
        "\n",
        "for recipient in recipients:\n",
        "    yag.send(to=recipient, subject=subject, contents=body)\n",
        "    print(f\"✅ Email sent to {recipient}\")\n"
      ],
      "metadata": {
        "colab": {
          "base_uri": "https://localhost:8080/"
        },
        "id": "u4ANKNgbujin",
        "outputId": "b4740559-f8bd-4f8c-a2ef-c517acfc111a"
      },
      "execution_count": null,
      "outputs": [
        {
          "output_type": "stream",
          "name": "stdout",
          "text": [
            "✅ Email sent to 22b2218@iitb.ac.in\n",
            "✅ Email sent to sanketyadavdohar123@gmail.com\n",
            "✅ Email sent to harishchand.iws@gmail.com\n",
            "✅ Email sent to dishantrao11@gmail.com\n"
          ]
        }
      ]
    },
    {
      "cell_type": "code",
      "source": [
        "!pip install yagmail pandas openpyxl schedule"
      ],
      "metadata": {
        "colab": {
          "base_uri": "https://localhost:8080/"
        },
        "id": "pRqLJzKm0LDs",
        "outputId": "bd8fc0ee-c392-49f7-b06e-9fd1cb14a0af"
      },
      "execution_count": null,
      "outputs": [
        {
          "output_type": "stream",
          "name": "stdout",
          "text": [
            "Requirement already satisfied: yagmail in /usr/local/lib/python3.11/dist-packages (0.15.293)\n",
            "Requirement already satisfied: pandas in /usr/local/lib/python3.11/dist-packages (2.2.2)\n",
            "Requirement already satisfied: openpyxl in /usr/local/lib/python3.11/dist-packages (3.1.5)\n",
            "Requirement already satisfied: schedule in /usr/local/lib/python3.11/dist-packages (1.2.2)\n",
            "Requirement already satisfied: premailer in /usr/local/lib/python3.11/dist-packages (from yagmail) (3.10.0)\n",
            "Requirement already satisfied: numpy>=1.23.2 in /usr/local/lib/python3.11/dist-packages (from pandas) (1.26.4)\n",
            "Requirement already satisfied: python-dateutil>=2.8.2 in /usr/local/lib/python3.11/dist-packages (from pandas) (2.8.2)\n",
            "Requirement already satisfied: pytz>=2020.1 in /usr/local/lib/python3.11/dist-packages (from pandas) (2025.1)\n",
            "Requirement already satisfied: tzdata>=2022.7 in /usr/local/lib/python3.11/dist-packages (from pandas) (2025.1)\n",
            "Requirement already satisfied: et-xmlfile in /usr/local/lib/python3.11/dist-packages (from openpyxl) (2.0.0)\n",
            "Requirement already satisfied: six>=1.5 in /usr/local/lib/python3.11/dist-packages (from python-dateutil>=2.8.2->pandas) (1.17.0)\n",
            "Requirement already satisfied: lxml in /usr/local/lib/python3.11/dist-packages (from premailer->yagmail) (5.3.1)\n",
            "Requirement already satisfied: cssselect in /usr/local/lib/python3.11/dist-packages (from premailer->yagmail) (1.2.0)\n",
            "Requirement already satisfied: cssutils in /usr/local/lib/python3.11/dist-packages (from premailer->yagmail) (2.11.1)\n",
            "Requirement already satisfied: requests in /usr/local/lib/python3.11/dist-packages (from premailer->yagmail) (2.32.3)\n",
            "Requirement already satisfied: cachetools in /usr/local/lib/python3.11/dist-packages (from premailer->yagmail) (5.5.1)\n",
            "Requirement already satisfied: more-itertools in /usr/local/lib/python3.11/dist-packages (from cssutils->premailer->yagmail) (10.6.0)\n",
            "Requirement already satisfied: charset-normalizer<4,>=2 in /usr/local/lib/python3.11/dist-packages (from requests->premailer->yagmail) (3.4.1)\n",
            "Requirement already satisfied: idna<4,>=2.5 in /usr/local/lib/python3.11/dist-packages (from requests->premailer->yagmail) (3.10)\n",
            "Requirement already satisfied: urllib3<3,>=1.21.1 in /usr/local/lib/python3.11/dist-packages (from requests->premailer->yagmail) (2.3.0)\n",
            "Requirement already satisfied: certifi>=2017.4.17 in /usr/local/lib/python3.11/dist-packages (from requests->premailer->yagmail) (2025.1.31)\n"
          ]
        }
      ]
    },
    {
      "cell_type": "code",
      "source": [
        "import pandas as pd\n",
        "import yagmail\n",
        "import schedule\n",
        "import time\n",
        "\n",
        "SENDER_EMAIL = \"dishantrao11@gmail.com\"\n",
        "SENDER_PASSWORD = \"etlk fepl sztz fkel\"\n",
        "recipients = mail\n",
        "attachment_file = \"MidsemTakeHome.pdf\"  # Change this to your actual attachment file\n",
        "\n",
        "\n",
        "def retrieveMailFromExcel():\n",
        "  file_path = \"xx.csv\"\n",
        "  df = pd.read_csv(file_path)\n",
        "  if 'email' in df.columns:\n",
        "    emails = df['email'].dropna().tolist()\n",
        "  return emails\n",
        "\n",
        "mail = retrieveMailFromExcel()\n",
        "\n",
        "subject = \"Bonita\"\n",
        "body = \"Lodu lalit Bonita\"\n",
        "\n",
        "yag = yagmail.SMTP(SENDER_EMAIL, SENDER_PASSWORD)\n",
        "\n",
        "for recipient in recipients:\n",
        "    yag.send(to=recipient, subject=subject, contents=body, attachments=attachment_file)\n",
        "    print(f\"✅ Email sent to {recipient}\")\n"
      ],
      "metadata": {
        "colab": {
          "base_uri": "https://localhost:8080/"
        },
        "id": "kc4658sZ2_qa",
        "outputId": "8cfb85ef-42d2-4ccf-bf4a-02ca5b6525c4"
      },
      "execution_count": null,
      "outputs": [
        {
          "output_type": "stream",
          "name": "stdout",
          "text": [
            "✅ Email sent to 22b2218@iitb.ac.in\n",
            "✅ Email sent to sanketyadavdohar123@gmail.com\n",
            "✅ Email sent to harishchand.iws@gmail.com\n",
            "✅ Email sent to dishantrao11@gmail.com\n"
          ]
        }
      ]
    },
    {
      "cell_type": "code",
      "source": [
        "import pandas as pd\n",
        "import yagmail\n",
        "import schedule\n",
        "import time\n",
        "from datetime import datetime\n",
        "\n",
        "SENDER_EMAIL = \"dishantrao11@gmail.com\"\n",
        "SENDER_PASSWORD = \"etlk fepl sztz fkel\"\n",
        "attachment_file = \"MidsemTakeHome.pdf\"  # Change this to your actual attachment file\n",
        "\n",
        "\n",
        "def retrieveMailFromExcel():\n",
        "  file_path = \"xx.csv\"\n",
        "  df = pd.read_csv(file_path)\n",
        "  if 'email' in df.columns:\n",
        "    emails = df['email'].dropna().tolist()\n",
        "  return emails\n",
        "\n",
        "recipients = retrieveMailFromExcel()\n",
        "\n",
        "subject = \"Bonita\"\n",
        "body = \"Hello harish , wanna come here\"\n",
        "\n",
        "yag = yagmail.SMTP(SENDER_EMAIL, SENDER_PASSWORD)\n",
        "\n",
        "def send_scheduled_emails():\n",
        "    recipients = retrieveMailFromExcel()\n",
        "    yag = yagmail.SMTP(SENDER_EMAIL, SENDER_PASSWORD)\n",
        "\n",
        "    for recipient in recipients:\n",
        "        yag.send(to=recipient, subject=subject, contents=body, attachments=attachment_file)\n",
        "        print(f\"✅ Email sent to {recipient} at scheduled time\")\n",
        "\n",
        "\n",
        "# Schedule the email (Options Below)\n",
        "schedule.every().day.at(\"19:57\").do(send_scheduled_emails)  # Sends every day at 9 AM\n",
        "# schedule.every(10).minutes.do(send_scheduled_emails)  # Uncomment for every 10 minutes\n",
        "# schedule.every().hour.do(send_scheduled_emails)  # Uncomment to send every hour\n",
        "\n",
        "print(\"📅 Email scheduling started...\")\n",
        "\n",
        "# Keep the script running\n",
        "while True:\n",
        "    print(\"⏳ Waiting for scheduled time...\")\n",
        "    schedule.run_pending()\n",
        "    time.sleep(10)  # Check every 10 seconds\n",
        "    current_time = datetime.now().strftime(\"%Y-%m-%d %H:%M:%S\")\n",
        "    print(current_time)\n"
      ],
      "metadata": {
        "id": "LBW6BKmR33sU"
      },
      "execution_count": null,
      "outputs": []
    }
  ]
}