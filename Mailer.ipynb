{
  "nbformat": 4,
  "nbformat_minor": 0,
  "metadata": {
    "colab": {
      "provenance": [],
      "authorship_tag": "ABX9TyNRlMVxdK725yN594ea8HcD",
      "include_colab_link": true
    },
    "kernelspec": {
      "name": "python3",
      "display_name": "Python 3"
    },
    "language_info": {
      "name": "python"
    }
  },
  "cells": [
    {
      "cell_type": "markdown",
      "metadata": {
        "id": "view-in-github",
        "colab_type": "text"
      },
      "source": [
        "<a href=\"https://colab.research.google.com/github/Dishantydv7/Mailer/blob/main/Mailer.ipynb\" target=\"_parent\"><img src=\"https://colab.research.google.com/assets/colab-badge.svg\" alt=\"Open In Colab\"/></a>"
      ]
    },
    {
      "cell_type": "code",
      "source": [
        "from google.colab import drive\n",
        "drive.mount('/content/drive')"
      ],
      "metadata": {
        "id": "Ifw5vbSf34I_",
        "outputId": "28eca571-36b9-41f3-95a9-2ec3ae325a50",
        "colab": {
          "base_uri": "https://localhost:8080/"
        }
      },
      "execution_count": 11,
      "outputs": [
        {
          "output_type": "stream",
          "name": "stdout",
          "text": [
            "Drive already mounted at /content/drive; to attempt to forcibly remount, call drive.mount(\"/content/drive\", force_remount=True).\n"
          ]
        }
      ]
    },
    {
      "cell_type": "markdown",
      "source": [
        "## Write or Store your Sender Password in .env file on your Google Drive"
      ],
      "metadata": {
        "id": "3iQRu-dM48Ea"
      }
    },
    {
      "cell_type": "code",
      "source": [
        "!pip install python-dotenv yagmail pandas openpyxl schedule"
      ],
      "metadata": {
        "id": "y4_IJ2yG5JkP",
        "outputId": "280aef75-49fe-4e7c-dc5b-88f54897a78b",
        "colab": {
          "base_uri": "https://localhost:8080/"
        }
      },
      "execution_count": 12,
      "outputs": [
        {
          "output_type": "stream",
          "name": "stdout",
          "text": [
            "Requirement already satisfied: python-dotenv in /usr/local/lib/python3.11/dist-packages (1.0.1)\n",
            "Collecting yagmail\n",
            "  Downloading yagmail-0.15.293-py2.py3-none-any.whl.metadata (2.9 kB)\n",
            "Requirement already satisfied: pandas in /usr/local/lib/python3.11/dist-packages (2.2.2)\n",
            "Requirement already satisfied: openpyxl in /usr/local/lib/python3.11/dist-packages (3.1.5)\n",
            "Collecting schedule\n",
            "  Downloading schedule-1.2.2-py3-none-any.whl.metadata (3.8 kB)\n",
            "Collecting premailer (from yagmail)\n",
            "  Downloading premailer-3.10.0-py2.py3-none-any.whl.metadata (15 kB)\n",
            "Requirement already satisfied: numpy>=1.23.2 in /usr/local/lib/python3.11/dist-packages (from pandas) (1.26.4)\n",
            "Requirement already satisfied: python-dateutil>=2.8.2 in /usr/local/lib/python3.11/dist-packages (from pandas) (2.8.2)\n",
            "Requirement already satisfied: pytz>=2020.1 in /usr/local/lib/python3.11/dist-packages (from pandas) (2025.1)\n",
            "Requirement already satisfied: tzdata>=2022.7 in /usr/local/lib/python3.11/dist-packages (from pandas) (2025.1)\n",
            "Requirement already satisfied: et-xmlfile in /usr/local/lib/python3.11/dist-packages (from openpyxl) (2.0.0)\n",
            "Requirement already satisfied: six>=1.5 in /usr/local/lib/python3.11/dist-packages (from python-dateutil>=2.8.2->pandas) (1.17.0)\n",
            "Requirement already satisfied: lxml in /usr/local/lib/python3.11/dist-packages (from premailer->yagmail) (5.3.1)\n",
            "Collecting cssselect (from premailer->yagmail)\n",
            "  Downloading cssselect-1.2.0-py2.py3-none-any.whl.metadata (2.2 kB)\n",
            "Collecting cssutils (from premailer->yagmail)\n",
            "  Downloading cssutils-2.11.1-py3-none-any.whl.metadata (8.7 kB)\n",
            "Requirement already satisfied: requests in /usr/local/lib/python3.11/dist-packages (from premailer->yagmail) (2.32.3)\n",
            "Requirement already satisfied: cachetools in /usr/local/lib/python3.11/dist-packages (from premailer->yagmail) (5.5.1)\n",
            "Requirement already satisfied: more-itertools in /usr/local/lib/python3.11/dist-packages (from cssutils->premailer->yagmail) (10.6.0)\n",
            "Requirement already satisfied: charset-normalizer<4,>=2 in /usr/local/lib/python3.11/dist-packages (from requests->premailer->yagmail) (3.4.1)\n",
            "Requirement already satisfied: idna<4,>=2.5 in /usr/local/lib/python3.11/dist-packages (from requests->premailer->yagmail) (3.10)\n",
            "Requirement already satisfied: urllib3<3,>=1.21.1 in /usr/local/lib/python3.11/dist-packages (from requests->premailer->yagmail) (2.3.0)\n",
            "Requirement already satisfied: certifi>=2017.4.17 in /usr/local/lib/python3.11/dist-packages (from requests->premailer->yagmail) (2025.1.31)\n",
            "Downloading yagmail-0.15.293-py2.py3-none-any.whl (17 kB)\n",
            "Downloading schedule-1.2.2-py3-none-any.whl (12 kB)\n",
            "Downloading premailer-3.10.0-py2.py3-none-any.whl (19 kB)\n",
            "Downloading cssselect-1.2.0-py2.py3-none-any.whl (18 kB)\n",
            "Downloading cssutils-2.11.1-py3-none-any.whl (385 kB)\n",
            "\u001b[2K   \u001b[90m━━━━━━━━━━━━━━━━━━━━━━━━━━━━━━━━━━━━━━━━\u001b[0m \u001b[32m385.7/385.7 kB\u001b[0m \u001b[31m13.3 MB/s\u001b[0m eta \u001b[36m0:00:00\u001b[0m\n",
            "\u001b[?25hInstalling collected packages: schedule, cssutils, cssselect, premailer, yagmail\n",
            "Successfully installed cssselect-1.2.0 cssutils-2.11.1 premailer-3.10.0 schedule-1.2.2 yagmail-0.15.293\n"
          ]
        }
      ]
    },
    {
      "cell_type": "code",
      "source": [
        "from dotenv import load_dotenv\n",
        "import os\n",
        "\n",
        "load_dotenv('/content/drive/MyDrive/.env')\n",
        "\n",
        "SENDER_PASSWORD = os.getenv(\"SENDER_PASSWORD\")\n"
      ],
      "metadata": {
        "id": "9gN7xm9T5B56"
      },
      "execution_count": 13,
      "outputs": []
    },
    {
      "cell_type": "code",
      "source": [
        "import pandas as pd\n",
        "import yagmail\n",
        "import schedule\n",
        "import time\n",
        "\n",
        "SENDER_EMAIL = \"dishantrao11@gmail.com\"\n",
        "SENDER_PASSWORD = SENDER_PASSWORD\n",
        "attachment_file = \"Resume.pdf\"  # Change this to your actual attachment file\n",
        "\n",
        "\n",
        "def retrieveMailFromExcel():\n",
        "  file_path = \"Contact.csv\"\n",
        "  if not os.path.exists(file_path):\n",
        "     print(f\"❌ File '{file_path}' not found!\")\n",
        "     return []\n",
        "  df = pd.read_csv(file_path)\n",
        "  df.columns = [col.lower() for col in df.columns]\n",
        "  if ('email') in df.columns:\n",
        "     return [email for email in df['email'].dropna().tolist()]\n",
        "  else:\n",
        "     print(\"❌ Column 'email' not found in CSV!\")\n",
        "     return []\n",
        "\n",
        "mail = retrieveMailFromExcel()\n",
        "recipients = mail\n",
        "\n",
        "subject = \"Subject\"\n",
        "body = \"Your Body\"\n",
        "\n",
        "if not os.path.exists(attachment_file):\n",
        "    print(f\"❌ Attachment '{attachment_file}' not found!\")\n",
        "    exit(1)\n",
        "\n",
        "yag = yagmail.SMTP(SENDER_EMAIL, SENDER_PASSWORD)\n",
        "\n",
        "for recipient in recipients:\n",
        "    try:\n",
        "        yag.send(to=recipient, subject=subject, contents=body, attachments=attachment_file)\n",
        "        print(f\"✅ Email sent to {recipient}\")\n",
        "    except Exception as e:\n",
        "        print(f\"❌ Failed to send email to {recipient}: {str(e)}\")\n",
        "\n"
      ],
      "metadata": {
        "id": "MHcQr8El5JDb",
        "outputId": "59095c4c-5bdb-44ad-db48-4d2f820994db",
        "colab": {
          "base_uri": "https://localhost:8080/"
        }
      },
      "execution_count": 15,
      "outputs": [
        {
          "output_type": "stream",
          "name": "stdout",
          "text": [
            "✅ Email sent to dishantrao11.code@gmail.com\n",
            "✅ Email sent to 22b3984@iitb.ac.in\n"
          ]
        }
      ]
    },
    {
      "cell_type": "markdown",
      "source": [
        "#Sample Code for scheduling Mails"
      ],
      "metadata": {
        "id": "K23lnLBU5cnS"
      }
    },
    {
      "cell_type": "code",
      "source": [
        "import pandas as pd\n",
        "import yagmail\n",
        "import schedule\n",
        "import time\n",
        "from datetime import datetime\n",
        "\n",
        "SENDER_EMAIL = \"dishantrao11@gmail.com\"\n",
        "SENDER_PASSWORD = \"etlk fepl sztz fkel\"\n",
        "attachment_file = \"MidsemTakeHome.pdf\"  # Change this to your actual attachment file\n",
        "\n",
        "\n",
        "def retrieveMailFromExcel():\n",
        "  file_path = \"xx.csv\"\n",
        "  df = pd.read_csv(file_path)\n",
        "  if 'email' in df.columns:\n",
        "    emails = df['email'].dropna().tolist()\n",
        "  return emails\n",
        "\n",
        "recipients = retrieveMailFromExcel()\n",
        "\n",
        "subject = \"Bonita\"\n",
        "body = \"Hello harish , wanna come here\"\n",
        "\n",
        "yag = yagmail.SMTP(SENDER_EMAIL, SENDER_PASSWORD)\n",
        "\n",
        "def send_scheduled_emails():\n",
        "    recipients = retrieveMailFromExcel()\n",
        "    yag = yagmail.SMTP(SENDER_EMAIL, SENDER_PASSWORD)\n",
        "\n",
        "    for recipient in recipients:\n",
        "        yag.send(to=recipient, subject=subject, contents=body, attachments=attachment_file)\n",
        "        print(f\"✅ Email sent to {recipient} at scheduled time\")\n",
        "\n",
        "\n",
        "# Schedule the email (Options Below)\n",
        "schedule.every().day.at(\"19:57\").do(send_scheduled_emails)  # Sends every day at 9 AM\n",
        "# schedule.every(10).minutes.do(send_scheduled_emails)  # Uncomment for every 10 minutes\n",
        "# schedule.every().hour.do(send_scheduled_emails)  # Uncomment to send every hour\n",
        "\n",
        "print(\"📅 Email scheduling started...\")\n",
        "\n",
        "# Keep the script running\n",
        "while True:\n",
        "    print(\"⏳ Waiting for scheduled time...\")\n",
        "    schedule.run_pending()\n",
        "    time.sleep(10)  # Check every 10 seconds\n",
        "    current_time = datetime.now().strftime(\"%Y-%m-%d %H:%M:%S\")\n",
        "    print(current_time)\n"
      ],
      "metadata": {
        "id": "gaL7msfs5cS-"
      },
      "execution_count": null,
      "outputs": []
    }
  ]
}